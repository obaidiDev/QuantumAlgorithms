{
 "cells": [
  {
   "cell_type": "code",
   "execution_count": 1,
   "metadata": {},
   "outputs": [],
   "source": [
    "from qiskit import QuantumRegister, ClassicalRegister, QuantumCircuit, Aer, execute\n",
    "from qiskit.quantum_info import Statevector\n",
    "import matplotlib as mpl\n",
    "from numpy import pi"
   ]
  },
  {
   "cell_type": "code",
   "execution_count": 11,
   "metadata": {},
   "outputs": [],
   "source": [
    "def constant_oracle_zero(qc, qubits):\n",
    "    pass\n",
    "def constant_oracle_one(qc, qubits):\n",
    "    qc.x(qubits[1])\n",
    "def balanced_oracle(qc, qubits):\n",
    "    qc.cx(qubits[0], qubits[1]) "
   ]
  },
  {
   "cell_type": "code",
   "execution_count": 12,
   "metadata": {},
   "outputs": [],
   "source": [
    "def deutsch_algorithm(oracle):\n",
    "    qc = QuantumCircuit(2,1)\n",
    "    qc.x(1)\n",
    "    qc.h([0,1])\n",
    "    oracle(qc,[0,1])\n",
    "    qc.h(0)\n",
    "    qc.measure(0,0)\n",
    "    return qc"
   ]
  },
  {
   "cell_type": "code",
   "execution_count": 7,
   "metadata": {},
   "outputs": [
    {
     "name": "stdout",
     "output_type": "stream",
     "text": [
      "Constant Oracle (f(x)=0): {'0': 1024}\n",
      "Constant Oracle (f(x)=1): {'0': 1024}\n",
      "Balanced Oracle: {'1': 1024}\n"
     ]
    }
   ],
   "source": [
    "simulator = Aer.get_backend('qasm_simulator')\n",
    "\n",
    "qc_constant_zero = deutsch_algorithm(constant_oracle_zero)\n",
    "qc_constant_one = deutsch_algorithm(constant_oracle_one)\n",
    "result_constant = execute(qc_constant_zero, backend=simulator, shots=1024).result()\n",
    "result_constant_one = execute(qc_constant_one, backend=simulator, shots=1024).result()\n",
    "counts_constant = result_constant.get_counts(qc_constant_zero)\n",
    "counts_constant_one = result_constant_one.get_counts(qc_constant_one)\n",
    "\n",
    "qc_balanced = deutsch_algorithm(balanced_oracle)\n",
    "result_balanced = execute(qc_balanced, backend=simulator, shots=1024).result()\n",
    "counts_balanced = result_balanced.get_counts(qc_balanced)\n",
    "\n",
    "print(\"Constant Oracle (f(x)=0):\", counts_constant)\n",
    "print(\"Constant Oracle (f(x)=1):\", counts_constant_one)\n",
    "print(\"Balanced Oracle:\", counts_balanced)"
   ]
  },
  {
   "cell_type": "code",
   "execution_count": 25,
   "metadata": {},
   "outputs": [],
   "source": [
    "def compare_functions(oracle_f, oracle_g):\n",
    "    qc_f = deutsch_algorithm(oracle_f)\n",
    "    qc_g = deutsch_algorithm(oracle_g)\n",
    "    result_f = execute(qc_f, backend=simulator, shots=1024).result()\n",
    "    result_g = execute(qc_g, backend=simulator, shots=1024).result()\n",
    "    counts_f = result_f.get_counts(qc_f)\n",
    "    counts_g = result_g.get_counts(qc_g)\n",
    "    return (counts_f == counts_g) * 1"
   ]
  },
  {
   "cell_type": "code",
   "execution_count": 26,
   "metadata": {},
   "outputs": [
    {
     "name": "stdout",
     "output_type": "stream",
     "text": [
      "Output for functions of the same type (constant): 1\n",
      "Output for functions of different types: 0\n"
     ]
    }
   ],
   "source": [
    "same_type = compare_functions(constant_oracle_zero, constant_oracle_one)\n",
    "print(\"Output for functions of the same type (constant):\", same_type)\n",
    "\n",
    "same_type = compare_functions(constant_oracle_one, balanced_oracle)\n",
    "print(\"Output for functions of different types:\", same_type)"
   ]
  },
  {
   "cell_type": "code",
   "execution_count": null,
   "metadata": {},
   "outputs": [],
   "source": []
  }
 ],
 "metadata": {
  "kernelspec": {
   "display_name": "Python 3",
   "language": "python",
   "name": "python3"
  },
  "language_info": {
   "codemirror_mode": {
    "name": "ipython",
    "version": 3
   },
   "file_extension": ".py",
   "mimetype": "text/x-python",
   "name": "python",
   "nbconvert_exporter": "python",
   "pygments_lexer": "ipython3",
   "version": "3.11.3"
  }
 },
 "nbformat": 4,
 "nbformat_minor": 2
}
