{
 "cells": [
  {
   "cell_type": "code",
   "execution_count": 1,
   "metadata": {},
   "outputs": [],
   "source": [
    "import pennylane as qml\n",
    "from pennylane import numpy as np"
   ]
  },
  {
   "cell_type": "code",
   "execution_count": 2,
   "metadata": {},
   "outputs": [],
   "source": [
    "def qft(wires):\n",
    "    n = len(wires)\n",
    "    for i in range(n):\n",
    "        qml.Hadamard(wires=wires[i])\n",
    "        for j in range(i + 1, n):\n",
    "            qml.ControlledPhaseShift(np.pi / 2 ** (j - i), wires=[wires[j], wires[i]])\n",
    "    for i in range(n // 2):\n",
    "        qml.SWAP(wires=[wires[i], wires[n - i - 1]])"
   ]
  },
  {
   "cell_type": "code",
   "execution_count": 3,
   "metadata": {},
   "outputs": [],
   "source": [
    "def iqft(wires):\n",
    "    n = len(wires)\n",
    "    for i in range(n // 2):\n",
    "        qml.SWAP(wires=[wires[i], wires[n - i - 1]])\n",
    "    for i in reversed(range(n)):\n",
    "        for j in reversed(range(i + 1, n)):\n",
    "            qml.ControlledPhaseShift(-np.pi / 2 ** (j - i), wires=[wires[j], wires[i]])\n",
    "        qml.Hadamard(wires=wires[i])"
   ]
  },
  {
   "cell_type": "code",
   "execution_count": 4,
   "metadata": {},
   "outputs": [],
   "source": [
    "def qpe_for_s(n, wires):\n",
    "    control_wires = wires[:n]\n",
    "    target_wires = wires[n:]\n",
    "    \n",
    "    for i in range(n):\n",
    "        qml.Hadamard(wires=control_wires[i])\n",
    "\n",
    "    qml.ControlledPhaseShift(np.pi / 2, wires=[control_wires[0], target_wires[0]])\n",
    "    qml.ControlledPhaseShift(np.pi, wires=[control_wires[1], target_wires[1]])\n",
    "\n",
    "    iqft(control_wires)"
   ]
  },
  {
   "cell_type": "code",
   "execution_count": 5,
   "metadata": {},
   "outputs": [
    {
     "name": "stdout",
     "output_type": "stream",
     "text": [
      "Measurement results:\n",
      "0000 (binary) -> 4096 counts\n"
     ]
    }
   ],
   "source": [
    "# Number of qubits\n",
    "n = 4\n",
    "\n",
    "# Define device\n",
    "dev = qml.device(\"default.qubit\", wires=2 * n, shots=1024)\n",
    "\n",
    "# Define QPE function\n",
    "@qml.qnode(dev)\n",
    "def qpe_circuit():\n",
    "    qpe_for_s(n, wires=list(range(2 * n)))\n",
    "    return qml.sample(wires=list(range(n)))\n",
    "\n",
    "# Run simulation\n",
    "samples = qpe_circuit()\n",
    "unique, counts = np.unique(samples, return_counts=True)\n",
    "\n",
    "# Print results\n",
    "print(\"Measurement results:\")\n",
    "for state, count in zip(unique, counts):\n",
    "    print(f\"{bin(state)[2:].zfill(n)} (binary) -> {count} counts\")"
   ]
  }
 ],
 "metadata": {
  "kernelspec": {
   "display_name": "pennylane_env",
   "language": "python",
   "name": "python3"
  },
  "language_info": {
   "codemirror_mode": {
    "name": "ipython",
    "version": 3
   },
   "file_extension": ".py",
   "mimetype": "text/x-python",
   "name": "python",
   "nbconvert_exporter": "python",
   "pygments_lexer": "ipython3",
   "version": "3.12.1"
  }
 },
 "nbformat": 4,
 "nbformat_minor": 2
}
