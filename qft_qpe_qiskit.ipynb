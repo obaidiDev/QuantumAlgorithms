{
 "cells": [
  {
   "cell_type": "code",
   "execution_count": 10,
   "metadata": {},
   "outputs": [],
   "source": [
    "from qiskit import QuantumRegister, ClassicalRegister, QuantumCircuit, Aer, execute\n",
    "from numpy import pi"
   ]
  },
  {
   "cell_type": "code",
   "execution_count": 11,
   "metadata": {},
   "outputs": [],
   "source": [
    "def get_qft(qreg):\n",
    "    n = len(qreg)\n",
    "    qft = QuantumCircuit(qreg)\n",
    "    i = n - 1\n",
    "    while i >= 0:\n",
    "        qft.h(qreg[i])\n",
    "        j=i-1\n",
    "        while j >= 0:\n",
    "            qft.cp(pi/2**(i-j),qreg[j],qreg[i])\n",
    "            j-=1\n",
    "        i-=1\n",
    "    for k in range(n//2):\n",
    "        qft.swap(qreg[k],qreg[n-k-1])\n",
    "    return qft"
   ]
  },
  {
   "cell_type": "code",
   "execution_count": 12,
   "metadata": {},
   "outputs": [],
   "source": [
    "def iqft_gater(qreg):\n",
    "    iqft_circuit = get_qft(qreg).inverse()\n",
    "    iqft_gate = iqft_circuit.to_gate(label=\"IQFT\")\n",
    "    return iqft_gate"
   ]
  },
  {
   "cell_type": "code",
   "execution_count": 13,
   "metadata": {},
   "outputs": [
    {
     "data": {
      "text/html": [
       "<pre style=\"word-wrap: normal;white-space: pre;background: #fff0;line-height: 1.1;font-family: &quot;Courier New&quot;,Courier,monospace\">                                                                          ┌───┐»\n",
       "q_0: ─────────────────────────────■─────────────────■─────────────■───────┤ H ├»\n",
       "                                  │                 │       ┌───┐ │P(π/2) └───┘»\n",
       "q_1: ───────────────■─────────────┼────────■────────┼───────┤ H ├─■─────────X──»\n",
       "                    │       ┌───┐ │        │P(π/2)  │P(π/4) └───┘           │  »\n",
       "q_2: ──────■────────┼───────┤ H ├─┼────────■────────■───────────────────────X──»\n",
       "     ┌───┐ │P(π/2)  │P(π/4) └───┘ │P(π/8)                                      »\n",
       "q_3: ┤ H ├─■────────■─────────────■────────────────────────────────────────────»\n",
       "     └───┘                                                                     »\n",
       "«        \n",
       "«q_0: ─X─\n",
       "«      │ \n",
       "«q_1: ─┼─\n",
       "«      │ \n",
       "«q_2: ─┼─\n",
       "«      │ \n",
       "«q_3: ─X─\n",
       "«        </pre>"
      ],
      "text/plain": [
       "                                                                          ┌───┐»\n",
       "q_0: ─────────────────────────────■─────────────────■─────────────■───────┤ H ├»\n",
       "                                  │                 │       ┌───┐ │P(π/2) └───┘»\n",
       "q_1: ───────────────■─────────────┼────────■────────┼───────┤ H ├─■─────────X──»\n",
       "                    │       ┌───┐ │        │P(π/2)  │P(π/4) └───┘           │  »\n",
       "q_2: ──────■────────┼───────┤ H ├─┼────────■────────■───────────────────────X──»\n",
       "     ┌───┐ │P(π/2)  │P(π/4) └───┘ │P(π/8)                                      »\n",
       "q_3: ┤ H ├─■────────■─────────────■────────────────────────────────────────────»\n",
       "     └───┘                                                                     »\n",
       "«        \n",
       "«q_0: ─X─\n",
       "«      │ \n",
       "«q_1: ─┼─\n",
       "«      │ \n",
       "«q_2: ─┼─\n",
       "«      │ \n",
       "«q_3: ─X─\n",
       "«        "
      ]
     },
     "execution_count": 13,
     "metadata": {},
     "output_type": "execute_result"
    }
   ],
   "source": [
    "qft = get_qft(QuantumRegister(4,'q'))\n",
    "qft.draw()"
   ]
  },
  {
   "cell_type": "code",
   "execution_count": 14,
   "metadata": {},
   "outputs": [
    {
     "data": {
      "text/html": [
       "<pre style=\"word-wrap: normal;white-space: pre;background: #fff0;line-height: 1.1;font-family: &quot;Courier New&quot;,Courier,monospace\">           ┌───┐                                                            »\n",
       "q_0: ────X─┤ H ├─■──────────────■───────────────────■───────────────────────»\n",
       "         │ └───┘ │P(-π/2) ┌───┐ │                   │                       »\n",
       "q_1: ─X──┼───────■────────┤ H ├─┼─────────■─────────┼──────────────■────────»\n",
       "      │  │                └───┘ │P(-π/4)  │P(-π/2)  │        ┌───┐ │        »\n",
       "q_2: ─X──┼──────────────────────■─────────■─────────┼────────┤ H ├─┼────────»\n",
       "         │                                          │P(-π/8) └───┘ │P(-π/4) »\n",
       "q_3: ────X──────────────────────────────────────────■──────────────■────────»\n",
       "                                                                            »\n",
       "«                    \n",
       "«q_0: ───────────────\n",
       "«                    \n",
       "«q_1: ───────────────\n",
       "«                    \n",
       "«q_2: ─■─────────────\n",
       "«      │P(-π/2) ┌───┐\n",
       "«q_3: ─■────────┤ H ├\n",
       "«               └───┘</pre>"
      ],
      "text/plain": [
       "           ┌───┐                                                            »\n",
       "q_0: ────X─┤ H ├─■──────────────■───────────────────■───────────────────────»\n",
       "         │ └───┘ │P(-π/2) ┌───┐ │                   │                       »\n",
       "q_1: ─X──┼───────■────────┤ H ├─┼─────────■─────────┼──────────────■────────»\n",
       "      │  │                └───┘ │P(-π/4)  │P(-π/2)  │        ┌───┐ │        »\n",
       "q_2: ─X──┼──────────────────────■─────────■─────────┼────────┤ H ├─┼────────»\n",
       "         │                                          │P(-π/8) └───┘ │P(-π/4) »\n",
       "q_3: ────X──────────────────────────────────────────■──────────────■────────»\n",
       "                                                                            »\n",
       "«                    \n",
       "«q_0: ───────────────\n",
       "«                    \n",
       "«q_1: ───────────────\n",
       "«                    \n",
       "«q_2: ─■─────────────\n",
       "«      │P(-π/2) ┌───┐\n",
       "«q_3: ─■────────┤ H ├\n",
       "«               └───┘"
      ]
     },
     "execution_count": 14,
     "metadata": {},
     "output_type": "execute_result"
    }
   ],
   "source": [
    "iqft = qft.inverse()\n",
    "iqft.draw()"
   ]
  },
  {
   "cell_type": "code",
   "execution_count": 19,
   "metadata": {},
   "outputs": [],
   "source": [
    "def qpe_for_s(n):\n",
    "    qreg = QuantumRegister(2*n,'q')\n",
    "    creg = ClassicalRegister(n,'c')\n",
    "    qpe = QuantumCircuit(qreg, creg)\n",
    "    qpe.h(qreg[0])\n",
    "    qpe.cs(qreg[0],qreg[n])\n",
    "    # qpe.cp(pi / 2, qreg[0], qreg[n])\n",
    "    qpe.h(qreg[1])\n",
    "    qpe.cz(qreg[1],qreg[n+1])\n",
    "    for i in range(2,n):\n",
    "        qpe.h(qreg[i])\n",
    "    iqft_qpe = iqft_gater(qreg[0:n])\n",
    "    qpe.append(iqft_qpe, qreg[0:n])\n",
    "    qpe.measure(qreg[0:n],creg)\n",
    "    return qpe"
   ]
  },
  {
   "cell_type": "code",
   "execution_count": 20,
   "metadata": {},
   "outputs": [
    {
     "name": "stdout",
     "output_type": "stream",
     "text": [
      "Measurement results:\n",
      "0000 (binary) -> 1024 counts\n"
     ]
    },
    {
     "data": {
      "text/html": [
       "<pre style=\"word-wrap: normal;white-space: pre;background: #fff0;line-height: 1.1;font-family: &quot;Courier New&quot;,Courier,monospace\">     ┌───┐        ┌───────┐┌─┐         \n",
       "q_0: ┤ H ├──■─────┤0      ├┤M├─────────\n",
       "     ├───┤  │     │       │└╥┘┌─┐      \n",
       "q_1: ┤ H ├──┼───■─┤1      ├─╫─┤M├──────\n",
       "     ├───┤  │   │ │  IQFT │ ║ └╥┘┌─┐   \n",
       "q_2: ┤ H ├──┼───┼─┤2      ├─╫──╫─┤M├───\n",
       "     ├───┤  │   │ │       │ ║  ║ └╥┘┌─┐\n",
       "q_3: ┤ H ├──┼───┼─┤3      ├─╫──╫──╫─┤M├\n",
       "     └───┘┌─┴─┐ │ └───────┘ ║  ║  ║ └╥┘\n",
       "q_4: ─────┤ S ├─┼───────────╫──╫──╫──╫─\n",
       "          └───┘ │           ║  ║  ║  ║ \n",
       "q_5: ───────────■───────────╫──╫──╫──╫─\n",
       "                            ║  ║  ║  ║ \n",
       "q_6: ───────────────────────╫──╫──╫──╫─\n",
       "                            ║  ║  ║  ║ \n",
       "q_7: ───────────────────────╫──╫──╫──╫─\n",
       "                            ║  ║  ║  ║ \n",
       "c: 4/═══════════════════════╩══╩══╩══╩═\n",
       "                            0  1  2  3 </pre>"
      ],
      "text/plain": [
       "     ┌───┐        ┌───────┐┌─┐         \n",
       "q_0: ┤ H ├──■─────┤0      ├┤M├─────────\n",
       "     ├───┤  │     │       │└╥┘┌─┐      \n",
       "q_1: ┤ H ├──┼───■─┤1      ├─╫─┤M├──────\n",
       "     ├───┤  │   │ │  IQFT │ ║ └╥┘┌─┐   \n",
       "q_2: ┤ H ├──┼───┼─┤2      ├─╫──╫─┤M├───\n",
       "     ├───┤  │   │ │       │ ║  ║ └╥┘┌─┐\n",
       "q_3: ┤ H ├──┼───┼─┤3      ├─╫──╫──╫─┤M├\n",
       "     └───┘┌─┴─┐ │ └───────┘ ║  ║  ║ └╥┘\n",
       "q_4: ─────┤ S ├─┼───────────╫──╫──╫──╫─\n",
       "          └───┘ │           ║  ║  ║  ║ \n",
       "q_5: ───────────■───────────╫──╫──╫──╫─\n",
       "                            ║  ║  ║  ║ \n",
       "q_6: ───────────────────────╫──╫──╫──╫─\n",
       "                            ║  ║  ║  ║ \n",
       "q_7: ───────────────────────╫──╫──╫──╫─\n",
       "                            ║  ║  ║  ║ \n",
       "c: 4/═══════════════════════╩══╩══╩══╩═\n",
       "                            0  1  2  3 "
      ]
     },
     "execution_count": 20,
     "metadata": {},
     "output_type": "execute_result"
    }
   ],
   "source": [
    "qpe = qpe_for_s(4)\n",
    "simulator = Aer.get_backend('qasm_simulator')\n",
    "\n",
    "job = execute(qpe, backend=simulator, shots=1024)\n",
    "result = job.result()\n",
    "\n",
    "counts = result.get_counts()\n",
    "\n",
    "print(\"Measurement results:\")\n",
    "for state, count in counts.items():\n",
    "    print(f\"{state} (binary) -> {count} counts\")\n",
    "\n",
    "qpe.draw()"
   ]
  },
  {
   "cell_type": "code",
   "execution_count": null,
   "metadata": {},
   "outputs": [],
   "source": []
  }
 ],
 "metadata": {
  "kernelspec": {
   "display_name": "Python 3",
   "language": "python",
   "name": "python3"
  },
  "language_info": {
   "codemirror_mode": {
    "name": "ipython",
    "version": 3
   },
   "file_extension": ".py",
   "mimetype": "text/x-python",
   "name": "python",
   "nbconvert_exporter": "python",
   "pygments_lexer": "ipython3",
   "version": "3.11.3"
  }
 },
 "nbformat": 4,
 "nbformat_minor": 2
}
